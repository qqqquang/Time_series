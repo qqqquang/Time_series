{
 "cells": [
  {
   "cell_type": "code",
   "execution_count": null,
   "metadata": {
    "colab": {
     "base_uri": "https://localhost:8080/"
    },
    "id": "4ezDzGn5nQU3",
    "outputId": "94f35e92-0fb1-4950-a7f8-be6967165b51"
   },
   "outputs": [
    {
     "name": "stdout",
     "output_type": "stream",
     "text": [
      "Looking in indexes: https://pypi.org/simple, https://us-python.pkg.dev/colab-wheels/public/simple/\n",
      "Requirement already satisfied: pmdarima in /usr/local/lib/python3.8/dist-packages (2.0.2)\n",
      "Requirement already satisfied: joblib>=0.11 in /usr/local/lib/python3.8/dist-packages (from pmdarima) (1.2.0)\n",
      "Requirement already satisfied: scipy>=1.3.2 in /usr/local/lib/python3.8/dist-packages (from pmdarima) (1.10.1)\n",
      "Requirement already satisfied: urllib3 in /usr/local/lib/python3.8/dist-packages (from pmdarima) (1.26.14)\n",
      "Requirement already satisfied: pandas>=0.19 in /usr/local/lib/python3.8/dist-packages (from pmdarima) (1.3.5)\n",
      "Requirement already satisfied: statsmodels>=0.13.2 in /usr/local/lib/python3.8/dist-packages (from pmdarima) (0.13.5)\n",
      "Requirement already satisfied: setuptools!=50.0.0,>=38.6.0 in /usr/local/lib/python3.8/dist-packages (from pmdarima) (57.4.0)\n",
      "Requirement already satisfied: Cython!=0.29.18,!=0.29.31,>=0.29 in /usr/local/lib/python3.8/dist-packages (from pmdarima) (0.29.33)\n",
      "Requirement already satisfied: numpy>=1.21.2 in /usr/local/lib/python3.8/dist-packages (from pmdarima) (1.22.4)\n",
      "Requirement already satisfied: scikit-learn>=0.22 in /usr/local/lib/python3.8/dist-packages (from pmdarima) (1.2.1)\n",
      "Requirement already satisfied: python-dateutil>=2.7.3 in /usr/local/lib/python3.8/dist-packages (from pandas>=0.19->pmdarima) (2.8.2)\n",
      "Requirement already satisfied: pytz>=2017.3 in /usr/local/lib/python3.8/dist-packages (from pandas>=0.19->pmdarima) (2022.7.1)\n",
      "Requirement already satisfied: threadpoolctl>=2.0.0 in /usr/local/lib/python3.8/dist-packages (from scikit-learn>=0.22->pmdarima) (3.1.0)\n",
      "Requirement already satisfied: packaging>=21.3 in /usr/local/lib/python3.8/dist-packages (from statsmodels>=0.13.2->pmdarima) (23.0)\n",
      "Requirement already satisfied: patsy>=0.5.2 in /usr/local/lib/python3.8/dist-packages (from statsmodels>=0.13.2->pmdarima) (0.5.3)\n",
      "Requirement already satisfied: six in /usr/local/lib/python3.8/dist-packages (from patsy>=0.5.2->statsmodels>=0.13.2->pmdarima) (1.15.0)\n"
     ]
    }
   ],
   "source": [
    "!pip install pmdarima"
   ]
  },
  {
   "cell_type": "code",
   "execution_count": null,
   "metadata": {
    "id": "ygZ2jF7xkjDO"
   },
   "outputs": [],
   "source": [
    "# import tất cả các thư viện\n",
    "\n",
    "import pandas as pd\n",
    "import numpy as np\n",
    "import os\n",
    "import matplotlib.pyplot as plt\n",
    "import time\n",
    "from pmdarima.arima.utils import ndiffs\n",
    "import statsmodels.api as sm\n",
    "from statsmodels.graphics.tsaplots import plot_pacf, plot_acf\n",
    "from statsmodels.tsa.stattools import acf, pacf\n",
    "from statsmodels.tsa.arima.model import ARIMA\n",
    "from math import sqrt\n",
    "from sklearn.metrics import mean_squared_error, mean_absolute_percentage_error,  mean_absolute_error\n",
    "\n",
    "import warnings\n",
    "warnings.filterwarnings(\"ignore\")"
   ]
  },
  {
   "cell_type": "code",
   "execution_count": null,
   "metadata": {
    "colab": {
     "base_uri": "https://localhost:8080/",
     "height": 918
    },
    "id": "eUaWreYxksoN",
    "outputId": "5a90c858-d084-4b30-98d2-898f1a87a581"
   },
   "outputs": [
    {
     "data": {
      "text/html": [
       "\n",
       "  <div id=\"df-ba65a91d-2aa5-4f2e-94ae-9cf6cee20706\">\n",
       "    <div class=\"colab-df-container\">\n",
       "      <div>\n",
       "<style scoped>\n",
       "    .dataframe tbody tr th:only-of-type {\n",
       "        vertical-align: middle;\n",
       "    }\n",
       "\n",
       "    .dataframe tbody tr th {\n",
       "        vertical-align: top;\n",
       "    }\n",
       "\n",
       "    .dataframe thead th {\n",
       "        text-align: right;\n",
       "    }\n",
       "</style>\n",
       "<table border=\"1\" class=\"dataframe\">\n",
       "  <thead>\n",
       "    <tr style=\"text-align: right;\">\n",
       "      <th></th>\n",
       "      <th>Unnamed: 0</th>\n",
       "      <th>Unnamed: 0.1</th>\n",
       "      <th>Barometer</th>\n",
       "      <th>Temp</th>\n",
       "      <th>NO</th>\n",
       "      <th>PM-10</th>\n",
       "      <th>RH</th>\n",
       "      <th>Radiation</th>\n",
       "      <th>WindDir</th>\n",
       "      <th>SO2</th>\n",
       "      <th>...</th>\n",
       "      <th>PM-2-5</th>\n",
       "      <th>CO</th>\n",
       "      <th>PM-1</th>\n",
       "      <th>O3</th>\n",
       "      <th>Wind Spd</th>\n",
       "      <th>TSP</th>\n",
       "      <th>Hướng gió</th>\n",
       "      <th>Nhiệt độ</th>\n",
       "      <th>Áp suất khí quyển</th>\n",
       "      <th>Wind Spd (sai)</th>\n",
       "    </tr>\n",
       "    <tr>\n",
       "      <th>time</th>\n",
       "      <th></th>\n",
       "      <th></th>\n",
       "      <th></th>\n",
       "      <th></th>\n",
       "      <th></th>\n",
       "      <th></th>\n",
       "      <th></th>\n",
       "      <th></th>\n",
       "      <th></th>\n",
       "      <th></th>\n",
       "      <th></th>\n",
       "      <th></th>\n",
       "      <th></th>\n",
       "      <th></th>\n",
       "      <th></th>\n",
       "      <th></th>\n",
       "      <th></th>\n",
       "      <th></th>\n",
       "      <th></th>\n",
       "      <th></th>\n",
       "      <th></th>\n",
       "    </tr>\n",
       "  </thead>\n",
       "  <tbody>\n",
       "    <tr>\n",
       "      <th>2019-04-14 07:00:00</th>\n",
       "      <td>0</td>\n",
       "      <td>0</td>\n",
       "      <td>1010.280000</td>\n",
       "      <td>25.550000</td>\n",
       "      <td>18.57</td>\n",
       "      <td>18.12</td>\n",
       "      <td>98.55</td>\n",
       "      <td>0.01</td>\n",
       "      <td>188.880000</td>\n",
       "      <td>19.17</td>\n",
       "      <td>...</td>\n",
       "      <td>7.48</td>\n",
       "      <td>461.82</td>\n",
       "      <td>3.43</td>\n",
       "      <td>-17.17</td>\n",
       "      <td>1.480000</td>\n",
       "      <td>31.02</td>\n",
       "      <td>NaN</td>\n",
       "      <td>NaN</td>\n",
       "      <td>NaN</td>\n",
       "      <td>NaN</td>\n",
       "    </tr>\n",
       "    <tr>\n",
       "      <th>2019-04-14 08:00:00</th>\n",
       "      <td>1</td>\n",
       "      <td>1</td>\n",
       "      <td>1011.210000</td>\n",
       "      <td>25.170000</td>\n",
       "      <td>11.61</td>\n",
       "      <td>17.25</td>\n",
       "      <td>99.62</td>\n",
       "      <td>32.83</td>\n",
       "      <td>194.240000</td>\n",
       "      <td>13.49</td>\n",
       "      <td>...</td>\n",
       "      <td>7.63</td>\n",
       "      <td>595.40</td>\n",
       "      <td>3.43</td>\n",
       "      <td>-3.70</td>\n",
       "      <td>1.550000</td>\n",
       "      <td>31.13</td>\n",
       "      <td>NaN</td>\n",
       "      <td>NaN</td>\n",
       "      <td>NaN</td>\n",
       "      <td>NaN</td>\n",
       "    </tr>\n",
       "    <tr>\n",
       "      <th>2019-04-14 09:00:00</th>\n",
       "      <td>2</td>\n",
       "      <td>2</td>\n",
       "      <td>1012.360000</td>\n",
       "      <td>25.860000</td>\n",
       "      <td>8.79</td>\n",
       "      <td>12.04</td>\n",
       "      <td>97.46</td>\n",
       "      <td>311.73</td>\n",
       "      <td>108.600000</td>\n",
       "      <td>6.68</td>\n",
       "      <td>...</td>\n",
       "      <td>5.31</td>\n",
       "      <td>553.42</td>\n",
       "      <td>2.43</td>\n",
       "      <td>3.09</td>\n",
       "      <td>1.240000</td>\n",
       "      <td>21.29</td>\n",
       "      <td>NaN</td>\n",
       "      <td>NaN</td>\n",
       "      <td>NaN</td>\n",
       "      <td>NaN</td>\n",
       "    </tr>\n",
       "    <tr>\n",
       "      <th>2019-04-14 10:00:00</th>\n",
       "      <td>3</td>\n",
       "      <td>3</td>\n",
       "      <td>1012.660000</td>\n",
       "      <td>27.670000</td>\n",
       "      <td>11.33</td>\n",
       "      <td>10.91</td>\n",
       "      <td>88.45</td>\n",
       "      <td>532.91</td>\n",
       "      <td>119.740000</td>\n",
       "      <td>5.77</td>\n",
       "      <td>...</td>\n",
       "      <td>4.48</td>\n",
       "      <td>446.55</td>\n",
       "      <td>2.14</td>\n",
       "      <td>8.60</td>\n",
       "      <td>1.780000</td>\n",
       "      <td>19.24</td>\n",
       "      <td>NaN</td>\n",
       "      <td>NaN</td>\n",
       "      <td>NaN</td>\n",
       "      <td>NaN</td>\n",
       "    </tr>\n",
       "    <tr>\n",
       "      <th>2019-04-14 11:00:00</th>\n",
       "      <td>4</td>\n",
       "      <td>4</td>\n",
       "      <td>1012.780000</td>\n",
       "      <td>29.140000</td>\n",
       "      <td>5.50</td>\n",
       "      <td>8.91</td>\n",
       "      <td>77.99</td>\n",
       "      <td>610.51</td>\n",
       "      <td>116.880000</td>\n",
       "      <td>5.72</td>\n",
       "      <td>...</td>\n",
       "      <td>3.68</td>\n",
       "      <td>435.10</td>\n",
       "      <td>1.87</td>\n",
       "      <td>33.08</td>\n",
       "      <td>1.560000</td>\n",
       "      <td>18.48</td>\n",
       "      <td>NaN</td>\n",
       "      <td>NaN</td>\n",
       "      <td>NaN</td>\n",
       "      <td>NaN</td>\n",
       "    </tr>\n",
       "    <tr>\n",
       "      <th>...</th>\n",
       "      <td>...</td>\n",
       "      <td>...</td>\n",
       "      <td>...</td>\n",
       "      <td>...</td>\n",
       "      <td>...</td>\n",
       "      <td>...</td>\n",
       "      <td>...</td>\n",
       "      <td>...</td>\n",
       "      <td>...</td>\n",
       "      <td>...</td>\n",
       "      <td>...</td>\n",
       "      <td>...</td>\n",
       "      <td>...</td>\n",
       "      <td>...</td>\n",
       "      <td>...</td>\n",
       "      <td>...</td>\n",
       "      <td>...</td>\n",
       "      <td>...</td>\n",
       "      <td>...</td>\n",
       "      <td>...</td>\n",
       "      <td>...</td>\n",
       "    </tr>\n",
       "    <tr>\n",
       "      <th>2019-05-09 02:00:00</th>\n",
       "      <td>3409</td>\n",
       "      <td>3409</td>\n",
       "      <td>1006.197202</td>\n",
       "      <td>24.618810</td>\n",
       "      <td>2.31</td>\n",
       "      <td>12.86</td>\n",
       "      <td>62.53</td>\n",
       "      <td>NaN</td>\n",
       "      <td>177.290079</td>\n",
       "      <td>70.69</td>\n",
       "      <td>...</td>\n",
       "      <td>5.44</td>\n",
       "      <td>122.13</td>\n",
       "      <td>2.98</td>\n",
       "      <td>91.97</td>\n",
       "      <td>0.994953</td>\n",
       "      <td>23.62</td>\n",
       "      <td>103.96</td>\n",
       "      <td>30.69</td>\n",
       "      <td>1002.97</td>\n",
       "      <td>2.46</td>\n",
       "    </tr>\n",
       "    <tr>\n",
       "      <th>2019-05-09 03:00:00</th>\n",
       "      <td>3410</td>\n",
       "      <td>3410</td>\n",
       "      <td>1004.847083</td>\n",
       "      <td>27.431410</td>\n",
       "      <td>2.30</td>\n",
       "      <td>10.30</td>\n",
       "      <td>62.61</td>\n",
       "      <td>NaN</td>\n",
       "      <td>131.708012</td>\n",
       "      <td>72.00</td>\n",
       "      <td>...</td>\n",
       "      <td>5.37</td>\n",
       "      <td>114.50</td>\n",
       "      <td>3.01</td>\n",
       "      <td>90.53</td>\n",
       "      <td>1.789547</td>\n",
       "      <td>18.27</td>\n",
       "      <td>84.25</td>\n",
       "      <td>30.64</td>\n",
       "      <td>1002.61</td>\n",
       "      <td>2.57</td>\n",
       "    </tr>\n",
       "    <tr>\n",
       "      <th>2019-05-09 04:00:00</th>\n",
       "      <td>3411</td>\n",
       "      <td>3411</td>\n",
       "      <td>1004.401372</td>\n",
       "      <td>24.187061</td>\n",
       "      <td>2.47</td>\n",
       "      <td>10.48</td>\n",
       "      <td>62.80</td>\n",
       "      <td>NaN</td>\n",
       "      <td>148.633002</td>\n",
       "      <td>73.61</td>\n",
       "      <td>...</td>\n",
       "      <td>5.32</td>\n",
       "      <td>110.68</td>\n",
       "      <td>2.98</td>\n",
       "      <td>88.60</td>\n",
       "      <td>1.083361</td>\n",
       "      <td>17.82</td>\n",
       "      <td>74.20</td>\n",
       "      <td>30.63</td>\n",
       "      <td>1002.26</td>\n",
       "      <td>3.08</td>\n",
       "    </tr>\n",
       "    <tr>\n",
       "      <th>2019-05-09 05:00:00</th>\n",
       "      <td>3412</td>\n",
       "      <td>3412</td>\n",
       "      <td>1009.252225</td>\n",
       "      <td>30.123856</td>\n",
       "      <td>2.48</td>\n",
       "      <td>11.45</td>\n",
       "      <td>63.54</td>\n",
       "      <td>NaN</td>\n",
       "      <td>211.588451</td>\n",
       "      <td>73.22</td>\n",
       "      <td>...</td>\n",
       "      <td>5.55</td>\n",
       "      <td>122.13</td>\n",
       "      <td>3.07</td>\n",
       "      <td>88.27</td>\n",
       "      <td>1.401751</td>\n",
       "      <td>18.58</td>\n",
       "      <td>91.78</td>\n",
       "      <td>30.46</td>\n",
       "      <td>1002.10</td>\n",
       "      <td>2.75</td>\n",
       "    </tr>\n",
       "    <tr>\n",
       "      <th>2019-05-09 06:00:00</th>\n",
       "      <td>3413</td>\n",
       "      <td>3413</td>\n",
       "      <td>1004.019334</td>\n",
       "      <td>27.841429</td>\n",
       "      <td>2.55</td>\n",
       "      <td>14.54</td>\n",
       "      <td>70.41</td>\n",
       "      <td>NaN</td>\n",
       "      <td>109.182176</td>\n",
       "      <td>77.79</td>\n",
       "      <td>...</td>\n",
       "      <td>6.97</td>\n",
       "      <td>232.82</td>\n",
       "      <td>3.70</td>\n",
       "      <td>76.07</td>\n",
       "      <td>1.305240</td>\n",
       "      <td>24.03</td>\n",
       "      <td>249.09</td>\n",
       "      <td>29.01</td>\n",
       "      <td>1002.14</td>\n",
       "      <td>1.58</td>\n",
       "    </tr>\n",
       "  </tbody>\n",
       "</table>\n",
       "<p>3414 rows × 23 columns</p>\n",
       "</div>\n",
       "      <button class=\"colab-df-convert\" onclick=\"convertToInteractive('df-ba65a91d-2aa5-4f2e-94ae-9cf6cee20706')\"\n",
       "              title=\"Convert this dataframe to an interactive table.\"\n",
       "              style=\"display:none;\">\n",
       "        \n",
       "  <svg xmlns=\"http://www.w3.org/2000/svg\" height=\"24px\"viewBox=\"0 0 24 24\"\n",
       "       width=\"24px\">\n",
       "    <path d=\"M0 0h24v24H0V0z\" fill=\"none\"/>\n",
       "    <path d=\"M18.56 5.44l.94 2.06.94-2.06 2.06-.94-2.06-.94-.94-2.06-.94 2.06-2.06.94zm-11 1L8.5 8.5l.94-2.06 2.06-.94-2.06-.94L8.5 2.5l-.94 2.06-2.06.94zm10 10l.94 2.06.94-2.06 2.06-.94-2.06-.94-.94-2.06-.94 2.06-2.06.94z\"/><path d=\"M17.41 7.96l-1.37-1.37c-.4-.4-.92-.59-1.43-.59-.52 0-1.04.2-1.43.59L10.3 9.45l-7.72 7.72c-.78.78-.78 2.05 0 2.83L4 21.41c.39.39.9.59 1.41.59.51 0 1.02-.2 1.41-.59l7.78-7.78 2.81-2.81c.8-.78.8-2.07 0-2.86zM5.41 20L4 18.59l7.72-7.72 1.47 1.35L5.41 20z\"/>\n",
       "  </svg>\n",
       "      </button>\n",
       "      \n",
       "  <style>\n",
       "    .colab-df-container {\n",
       "      display:flex;\n",
       "      flex-wrap:wrap;\n",
       "      gap: 12px;\n",
       "    }\n",
       "\n",
       "    .colab-df-convert {\n",
       "      background-color: #E8F0FE;\n",
       "      border: none;\n",
       "      border-radius: 50%;\n",
       "      cursor: pointer;\n",
       "      display: none;\n",
       "      fill: #1967D2;\n",
       "      height: 32px;\n",
       "      padding: 0 0 0 0;\n",
       "      width: 32px;\n",
       "    }\n",
       "\n",
       "    .colab-df-convert:hover {\n",
       "      background-color: #E2EBFA;\n",
       "      box-shadow: 0px 1px 2px rgba(60, 64, 67, 0.3), 0px 1px 3px 1px rgba(60, 64, 67, 0.15);\n",
       "      fill: #174EA6;\n",
       "    }\n",
       "\n",
       "    [theme=dark] .colab-df-convert {\n",
       "      background-color: #3B4455;\n",
       "      fill: #D2E3FC;\n",
       "    }\n",
       "\n",
       "    [theme=dark] .colab-df-convert:hover {\n",
       "      background-color: #434B5C;\n",
       "      box-shadow: 0px 1px 3px 1px rgba(0, 0, 0, 0.15);\n",
       "      filter: drop-shadow(0px 1px 2px rgba(0, 0, 0, 0.3));\n",
       "      fill: #FFFFFF;\n",
       "    }\n",
       "  </style>\n",
       "\n",
       "      <script>\n",
       "        const buttonEl =\n",
       "          document.querySelector('#df-ba65a91d-2aa5-4f2e-94ae-9cf6cee20706 button.colab-df-convert');\n",
       "        buttonEl.style.display =\n",
       "          google.colab.kernel.accessAllowed ? 'block' : 'none';\n",
       "\n",
       "        async function convertToInteractive(key) {\n",
       "          const element = document.querySelector('#df-ba65a91d-2aa5-4f2e-94ae-9cf6cee20706');\n",
       "          const dataTable =\n",
       "            await google.colab.kernel.invokeFunction('convertToInteractive',\n",
       "                                                     [key], {});\n",
       "          if (!dataTable) return;\n",
       "\n",
       "          const docLinkHtml = 'Like what you see? Visit the ' +\n",
       "            '<a target=\"_blank\" href=https://colab.research.google.com/notebooks/data_table.ipynb>data table notebook</a>'\n",
       "            + ' to learn more about interactive tables.';\n",
       "          element.innerHTML = '';\n",
       "          dataTable['output_type'] = 'display_data';\n",
       "          await google.colab.output.renderOutput(dataTable, element);\n",
       "          const docLink = document.createElement('div');\n",
       "          docLink.innerHTML = docLinkHtml;\n",
       "          element.appendChild(docLink);\n",
       "        }\n",
       "      </script>\n",
       "    </div>\n",
       "  </div>\n",
       "  "
      ],
      "text/plain": [
       "                     Unnamed: 0  Unnamed: 0.1    Barometer       Temp     NO  \\\n",
       "time                                                                           \n",
       "2019-04-14 07:00:00           0             0  1010.280000  25.550000  18.57   \n",
       "2019-04-14 08:00:00           1             1  1011.210000  25.170000  11.61   \n",
       "2019-04-14 09:00:00           2             2  1012.360000  25.860000   8.79   \n",
       "2019-04-14 10:00:00           3             3  1012.660000  27.670000  11.33   \n",
       "2019-04-14 11:00:00           4             4  1012.780000  29.140000   5.50   \n",
       "...                         ...           ...          ...        ...    ...   \n",
       "2019-05-09 02:00:00        3409          3409  1006.197202  24.618810   2.31   \n",
       "2019-05-09 03:00:00        3410          3410  1004.847083  27.431410   2.30   \n",
       "2019-05-09 04:00:00        3411          3411  1004.401372  24.187061   2.47   \n",
       "2019-05-09 05:00:00        3412          3412  1009.252225  30.123856   2.48   \n",
       "2019-05-09 06:00:00        3413          3413  1004.019334  27.841429   2.55   \n",
       "\n",
       "                     PM-10     RH  Radiation     WindDir    SO2  ...  PM-2-5  \\\n",
       "time                                                             ...           \n",
       "2019-04-14 07:00:00  18.12  98.55       0.01  188.880000  19.17  ...    7.48   \n",
       "2019-04-14 08:00:00  17.25  99.62      32.83  194.240000  13.49  ...    7.63   \n",
       "2019-04-14 09:00:00  12.04  97.46     311.73  108.600000   6.68  ...    5.31   \n",
       "2019-04-14 10:00:00  10.91  88.45     532.91  119.740000   5.77  ...    4.48   \n",
       "2019-04-14 11:00:00   8.91  77.99     610.51  116.880000   5.72  ...    3.68   \n",
       "...                    ...    ...        ...         ...    ...  ...     ...   \n",
       "2019-05-09 02:00:00  12.86  62.53        NaN  177.290079  70.69  ...    5.44   \n",
       "2019-05-09 03:00:00  10.30  62.61        NaN  131.708012  72.00  ...    5.37   \n",
       "2019-05-09 04:00:00  10.48  62.80        NaN  148.633002  73.61  ...    5.32   \n",
       "2019-05-09 05:00:00  11.45  63.54        NaN  211.588451  73.22  ...    5.55   \n",
       "2019-05-09 06:00:00  14.54  70.41        NaN  109.182176  77.79  ...    6.97   \n",
       "\n",
       "                         CO  PM-1     O3  Wind Spd    TSP  Hướng gió  \\\n",
       "time                                                                   \n",
       "2019-04-14 07:00:00  461.82  3.43 -17.17  1.480000  31.02        NaN   \n",
       "2019-04-14 08:00:00  595.40  3.43  -3.70  1.550000  31.13        NaN   \n",
       "2019-04-14 09:00:00  553.42  2.43   3.09  1.240000  21.29        NaN   \n",
       "2019-04-14 10:00:00  446.55  2.14   8.60  1.780000  19.24        NaN   \n",
       "2019-04-14 11:00:00  435.10  1.87  33.08  1.560000  18.48        NaN   \n",
       "...                     ...   ...    ...       ...    ...        ...   \n",
       "2019-05-09 02:00:00  122.13  2.98  91.97  0.994953  23.62     103.96   \n",
       "2019-05-09 03:00:00  114.50  3.01  90.53  1.789547  18.27      84.25   \n",
       "2019-05-09 04:00:00  110.68  2.98  88.60  1.083361  17.82      74.20   \n",
       "2019-05-09 05:00:00  122.13  3.07  88.27  1.401751  18.58      91.78   \n",
       "2019-05-09 06:00:00  232.82  3.70  76.07  1.305240  24.03     249.09   \n",
       "\n",
       "                     Nhiệt độ  Áp suất khí quyển  Wind Spd (sai)  \n",
       "time                                                              \n",
       "2019-04-14 07:00:00       NaN                NaN             NaN  \n",
       "2019-04-14 08:00:00       NaN                NaN             NaN  \n",
       "2019-04-14 09:00:00       NaN                NaN             NaN  \n",
       "2019-04-14 10:00:00       NaN                NaN             NaN  \n",
       "2019-04-14 11:00:00       NaN                NaN             NaN  \n",
       "...                       ...                ...             ...  \n",
       "2019-05-09 02:00:00     30.69            1002.97            2.46  \n",
       "2019-05-09 03:00:00     30.64            1002.61            2.57  \n",
       "2019-05-09 04:00:00     30.63            1002.26            3.08  \n",
       "2019-05-09 05:00:00     30.46            1002.10            2.75  \n",
       "2019-05-09 06:00:00     29.01            1002.14            1.58  \n",
       "\n",
       "[3414 rows x 23 columns]"
      ]
     },
     "execution_count": 29,
     "metadata": {},
     "output_type": "execute_result"
    }
   ],
   "source": [
    "df = pd.read_csv('DataAirTrain.csv', parse_dates=[\"time\"]) \n",
    "df.set_index(\"time\", inplace = True)\n",
    "df"
   ]
  },
  {
   "cell_type": "code",
   "execution_count": null,
   "metadata": {
    "id": "8lOepNPVlRwK"
   },
   "outputs": [],
   "source": [
    "# lấy cột PM-10 ra để dự báo\n",
    "df_sarima = df[[\"PM-10\"]].copy()\n",
    "\n",
    "#df_sarima[\"time\"] = df[\"time\"]\n",
    "#df_sarima.set_index(\"time\" ,inplace=True)\n",
    "#df_sarima.head(4)"
   ]
  },
  {
   "cell_type": "code",
   "execution_count": null,
   "metadata": {
    "colab": {
     "base_uri": "https://localhost:8080/"
    },
    "id": "1OB8XwSh2fux",
    "outputId": "119ac07e-841b-4235-ff71-f2a6f012f08a"
   },
   "outputs": [
    {
     "data": {
      "text/plain": [
       "<bound method DataFrame.info of                      Unnamed: 0  Unnamed: 0.1    Barometer       Temp     NO  \\\n",
       "time                                                                           \n",
       "2019-04-14 07:00:00           0             0  1010.280000  25.550000  18.57   \n",
       "2019-04-14 08:00:00           1             1  1011.210000  25.170000  11.61   \n",
       "2019-04-14 09:00:00           2             2  1012.360000  25.860000   8.79   \n",
       "2019-04-14 10:00:00           3             3  1012.660000  27.670000  11.33   \n",
       "2019-04-14 11:00:00           4             4  1012.780000  29.140000   5.50   \n",
       "...                         ...           ...          ...        ...    ...   \n",
       "2019-05-09 02:00:00        3409          3409  1006.197202  24.618810   2.31   \n",
       "2019-05-09 03:00:00        3410          3410  1004.847083  27.431410   2.30   \n",
       "2019-05-09 04:00:00        3411          3411  1004.401372  24.187061   2.47   \n",
       "2019-05-09 05:00:00        3412          3412  1009.252225  30.123856   2.48   \n",
       "2019-05-09 06:00:00        3413          3413  1004.019334  27.841429   2.55   \n",
       "\n",
       "                     PM-10     RH  Radiation     WindDir    SO2  ...  PM-2-5  \\\n",
       "time                                                             ...           \n",
       "2019-04-14 07:00:00  18.12  98.55       0.01  188.880000  19.17  ...    7.48   \n",
       "2019-04-14 08:00:00  17.25  99.62      32.83  194.240000  13.49  ...    7.63   \n",
       "2019-04-14 09:00:00  12.04  97.46     311.73  108.600000   6.68  ...    5.31   \n",
       "2019-04-14 10:00:00  10.91  88.45     532.91  119.740000   5.77  ...    4.48   \n",
       "2019-04-14 11:00:00   8.91  77.99     610.51  116.880000   5.72  ...    3.68   \n",
       "...                    ...    ...        ...         ...    ...  ...     ...   \n",
       "2019-05-09 02:00:00  12.86  62.53        NaN  177.290079  70.69  ...    5.44   \n",
       "2019-05-09 03:00:00  10.30  62.61        NaN  131.708012  72.00  ...    5.37   \n",
       "2019-05-09 04:00:00  10.48  62.80        NaN  148.633002  73.61  ...    5.32   \n",
       "2019-05-09 05:00:00  11.45  63.54        NaN  211.588451  73.22  ...    5.55   \n",
       "2019-05-09 06:00:00  14.54  70.41        NaN  109.182176  77.79  ...    6.97   \n",
       "\n",
       "                         CO  PM-1     O3  Wind Spd    TSP  Hướng gió  \\\n",
       "time                                                                   \n",
       "2019-04-14 07:00:00  461.82  3.43 -17.17  1.480000  31.02        NaN   \n",
       "2019-04-14 08:00:00  595.40  3.43  -3.70  1.550000  31.13        NaN   \n",
       "2019-04-14 09:00:00  553.42  2.43   3.09  1.240000  21.29        NaN   \n",
       "2019-04-14 10:00:00  446.55  2.14   8.60  1.780000  19.24        NaN   \n",
       "2019-04-14 11:00:00  435.10  1.87  33.08  1.560000  18.48        NaN   \n",
       "...                     ...   ...    ...       ...    ...        ...   \n",
       "2019-05-09 02:00:00  122.13  2.98  91.97  0.994953  23.62     103.96   \n",
       "2019-05-09 03:00:00  114.50  3.01  90.53  1.789547  18.27      84.25   \n",
       "2019-05-09 04:00:00  110.68  2.98  88.60  1.083361  17.82      74.20   \n",
       "2019-05-09 05:00:00  122.13  3.07  88.27  1.401751  18.58      91.78   \n",
       "2019-05-09 06:00:00  232.82  3.70  76.07  1.305240  24.03     249.09   \n",
       "\n",
       "                     Nhiệt độ  Áp suất khí quyển  Wind Spd (sai)  \n",
       "time                                                              \n",
       "2019-04-14 07:00:00       NaN                NaN             NaN  \n",
       "2019-04-14 08:00:00       NaN                NaN             NaN  \n",
       "2019-04-14 09:00:00       NaN                NaN             NaN  \n",
       "2019-04-14 10:00:00       NaN                NaN             NaN  \n",
       "2019-04-14 11:00:00       NaN                NaN             NaN  \n",
       "...                       ...                ...             ...  \n",
       "2019-05-09 02:00:00     30.69            1002.97            2.46  \n",
       "2019-05-09 03:00:00     30.64            1002.61            2.57  \n",
       "2019-05-09 04:00:00     30.63            1002.26            3.08  \n",
       "2019-05-09 05:00:00     30.46            1002.10            2.75  \n",
       "2019-05-09 06:00:00     29.01            1002.14            1.58  \n",
       "\n",
       "[3414 rows x 23 columns]>"
      ]
     },
     "execution_count": 31,
     "metadata": {},
     "output_type": "execute_result"
    }
   ],
   "source": [
    "df.info"
   ]
  },
  {
   "cell_type": "code",
   "execution_count": null,
   "metadata": {
    "colab": {
     "base_uri": "https://localhost:8080/"
    },
    "id": "8E_Qs4fVmbTz",
    "outputId": "52d95a47-c45b-4d5d-b5b4-5eaf63795830"
   },
   "outputs": [
    {
     "data": {
      "text/plain": [
       "PM-10    0\n",
       "dtype: int64"
      ]
     },
     "execution_count": 32,
     "metadata": {},
     "output_type": "execute_result"
    }
   ],
   "source": [
    "# xử lý số liệu thiếu\n",
    "\n",
    "#df_sarima=df_sarima.asfreq('H')\n",
    "df_sarima.fillna(int(df_sarima['PM-10'].mean()), inplace=True)\n",
    "df_sarima.isnull().sum()\n"
   ]
  },
  {
   "cell_type": "code",
   "execution_count": null,
   "metadata": {
    "colab": {
     "base_uri": "https://localhost:8080/"
    },
    "id": "WgBrIGCL4DWA",
    "outputId": "4333ad36-1f3a-409e-8d11-e96a440b1c35"
   },
   "outputs": [
    {
     "data": {
      "text/plain": [
       "PM-10    0\n",
       "dtype: int64"
      ]
     },
     "execution_count": 37,
     "metadata": {},
     "output_type": "execute_result"
    }
   ],
   "source": [
    "df_sarima.isnull().sum()"
   ]
  },
  {
   "cell_type": "code",
   "execution_count": null,
   "metadata": {
    "colab": {
     "base_uri": "https://localhost:8080/"
    },
    "id": "qYPr6V6Q2rEN",
    "outputId": "c451ebc9-35e2-4aca-e98a-67fc2c264e56"
   },
   "outputs": [
    {
     "data": {
      "text/plain": [
       "<bound method DataFrame.info of       PM-10\n",
       "0     18.12\n",
       "1     17.25\n",
       "2     12.04\n",
       "3     10.91\n",
       "4      8.91\n",
       "...     ...\n",
       "3409  12.86\n",
       "3410  10.30\n",
       "3411  10.48\n",
       "3412  11.45\n",
       "3413  14.54\n",
       "\n",
       "[3414 rows x 1 columns]>"
      ]
     },
     "execution_count": 12,
     "metadata": {},
     "output_type": "execute_result"
    }
   ],
   "source": [
    "df_sarima.info"
   ]
  },
  {
   "cell_type": "code",
   "execution_count": null,
   "metadata": {
    "colab": {
     "base_uri": "https://localhost:8080/"
    },
    "id": "L-76CfgOl6Pe",
    "outputId": "831b47fe-5be8-4f34-9332-871f49439c72"
   },
   "outputs": [
    {
     "data": {
      "text/plain": [
       "0"
      ]
     },
     "execution_count": 13,
     "metadata": {},
     "output_type": "execute_result"
    }
   ],
   "source": [
    "ndiffs(df_sarima, test=\"adf\")"
   ]
  },
  {
   "cell_type": "code",
   "execution_count": null,
   "metadata": {
    "colab": {
     "base_uri": "https://localhost:8080/",
     "height": 282
    },
    "id": "dxLdnTAbtxx0",
    "outputId": "cd14bc9c-0746-4103-f32d-2d98ef2b629c"
   },
   "outputs": [
    {
     "data": {
      "text/plain": [
       "<BarContainer object of 30 artists>"
      ]
     },
     "execution_count": 14,
     "metadata": {},
     "output_type": "execute_result"
    },
    {
     "data": {
      "image/png": "[encoded data removed]",
      "text/plain": [
       "<Figure size 432x288 with 1 Axes>"
      ]
     },
     "metadata": {
      "needs_background": "light"
     },
     "output_type": "display_data"
    }
   ],
   "source": [
    "acf_vals = acf(df_sarima)\n",
    "num_lags = 30\n",
    "plt.bar(range(num_lags), acf_vals[:num_lags])"
   ]
  },
  {
   "cell_type": "code",
   "execution_count": null,
   "metadata": {
    "colab": {
     "base_uri": "https://localhost:8080/",
     "height": 283
    },
    "id": "pm4O9Y5Gv8lQ",
    "outputId": "fff3303d-82b1-491b-e095-d13d675e1bf3"
   },
   "outputs": [
    {
     "data": {
      "text/plain": [
       "<BarContainer object of 31 artists>"
      ]
     },
     "execution_count": 15,
     "metadata": {},
     "output_type": "execute_result"
    },
    {
     "data": {
      "image/png": "[encoded data removed]",
      "text/plain": [
       "<Figure size 432x288 with 1 Axes>"
      ]
     },
     "metadata": {
      "needs_background": "light"
     },
     "output_type": "display_data"
    }
   ],
   "source": [
    "pacf_vals = pacf(df_sarima)\n",
    "num_lags = 31\n",
    "plt.bar(range(num_lags), pacf_vals[:num_lags])"
   ]
  },
  {
   "cell_type": "markdown",
   "metadata": {
    "id": "V9H-hznsxRf5"
   },
   "source": [
    "Nhìn vào acf, pacf, sesonal decompose, ta thấy không có yếu tố mùa. Vì vậy chọn ARMA với p = 5, q = 5."
   ]
  },
  {
   "cell_type": "code",
   "execution_count": null,
   "metadata": {
    "colab": {
     "base_uri": "https://localhost:8080/"
    },
    "id": "vFkQ3fVc1DaX",
    "outputId": "eff5d9d6-ff98-4196-9fe6-a7b3d4728673"
   },
   "outputs": [
    {
     "name": "stdout",
     "output_type": "stream",
     "text": [
      "2731\n",
      "683\n",
      "3414\n"
     ]
    }
   ],
   "source": [
    "# tách 2 tập train test\n",
    "\n",
    "n = int(len(df_sarima)-48)\n",
    "\n",
    "\n",
    "train = df_sarima[:n]\n",
    "test = df_sarima[n:]\n",
    "print(len(train))\n",
    "print(len(test))\n",
    "print(len(df_sarima))\n"
   ]
  },
  {
   "cell_type": "code",
   "execution_count": null,
   "metadata": {
    "colab": {
     "base_uri": "https://localhost:8080/"
    },
    "id": "plr9EI5MxRRL",
    "outputId": "16865996-4cc3-4ee7-e06c-38f4ef2cec1f"
   },
   "outputs": [
    {
     "name": "stdout",
     "output_type": "stream",
     "text": [
      "2731    32.243631\n",
      "2732    31.980596\n",
      "2733    30.864059\n",
      "2734    31.279643\n",
      "2735    31.249443\n",
      "          ...    \n",
      "3409    21.114121\n",
      "3410    21.114121\n",
      "3411    21.114121\n",
      "3412    21.114121\n",
      "3413    21.114121\n",
      "Name: predicted_mean, Length: 683, dtype: float64\n"
     ]
    }
   ],
   "source": [
    "step = len(test)\n",
    "order = (10, 0, 1)\n",
    "model = ARIMA(train, order=order)\n",
    "result = model.fit(method='innovations_mle')\n",
    "\n",
    "# Forecast\n",
    "fc=result.forecast(steps=step)\n",
    "print(fc)"
   ]
  },
  {
   "cell_type": "code",
   "execution_count": null,
   "metadata": {
    "colab": {
     "base_uri": "https://localhost:8080/"
    },
    "id": "3TDz_POQ_J4y",
    "outputId": "60fab97d-afa0-407c-8edf-214cfe5bc3ee"
   },
   "outputs": [
    {
     "name": "stdout",
     "output_type": "stream",
     "text": [
      "2731    32.243631\n",
      "2732    31.980596\n",
      "2733    30.864059\n",
      "2734    31.279643\n",
      "2735    31.249443\n",
      "          ...    \n",
      "3409    21.114121\n",
      "3410    21.114121\n",
      "3411    21.114121\n",
      "3412    21.114121\n",
      "3413    21.114121\n",
      "Name: predicted_mean, Length: 683, dtype: float64\n"
     ]
    }
   ],
   "source": [
    "fc = pd.Series(fc, index=test[:step].index)\n",
    "#lower = pd.Series(conf[:, 0], index=test[:step].index)\n",
    "#upper = pd.Series(conf[:, 1], index=test[:step].index)\n",
    "print(fc)"
   ]
  },
  {
   "cell_type": "code",
   "execution_count": null,
   "metadata": {
    "colab": {
     "base_uri": "https://localhost:8080/",
     "height": 354
    },
    "id": "mLBtjjjj_XVR",
    "outputId": "eee14967-213a-402f-e944-fc4b72ce5d8b"
   },
   "outputs": [
    {
     "data": {
      "text/plain": [
       "<matplotlib.legend.Legend at 0x7f3d6eae72e0>"
      ]
     },
     "execution_count": 34,
     "metadata": {},
     "output_type": "execute_result"
    },
    {
     "data": {
      "image/png": "[encoded data removed]",
      "text/plain": [
       "<Figure size 1080x360 with 1 Axes>"
      ]
     },
     "metadata": {
      "needs_background": "light"
     },
     "output_type": "display_data"
    }
   ],
   "source": [
    "plt.figure(figsize=(15, 5))\n",
    "plt.plot(test[:step], label=\"actual\")\n",
    "#plt.plot(df_sarima[:], label=\"actual\")\n",
    "plt.plot(fc, label=\"forecast\")\n",
    "#plt.fill_between(lower.index, lower, upper, color=\"k\", alpha=0.1)\n",
    "plt.title(\"Forecast vs Actual\")\n",
    "plt.legend(loc=\"upper left\")\n"
   ]
  },
  {
   "cell_type": "code",
   "execution_count": null,
   "metadata": {
    "id": "zAEF2ySs_l9h"
   },
   "outputs": [],
   "source": [
    "model = ARIMA(train, order=order)\n",
    "fitted = model.fit(method='innovations_mle')\n",
    "\n",
    "# Forecast\n"
   ]
  },
  {
   "cell_type": "code",
   "execution_count": null,
   "metadata": {
    "colab": {
     "base_uri": "https://localhost:8080/"
    },
    "id": "bjQUJDodCCAv",
    "outputId": "f052f7cc-bb25-4006-af6a-061ca4afb8c4"
   },
   "outputs": [
    {
     "name": "stdout",
     "output_type": "stream",
     "text": [
      "3366     9.734671\n",
      "3367    11.128755\n",
      "3368    11.863839\n",
      "3369    12.316313\n",
      "3370    12.760124\n",
      "3371    13.246187\n",
      "3372    13.671302\n",
      "3373    13.912833\n",
      "3374    13.994615\n",
      "3375    14.058003\n",
      "3376    14.249868\n",
      "3377    14.570340\n",
      "3378    14.896111\n",
      "3379    15.088428\n",
      "3380    15.142247\n",
      "3381    15.173555\n",
      "3382    15.318807\n",
      "3383    15.590857\n",
      "3384    15.883014\n",
      "3385    16.062797\n",
      "3386    16.111207\n",
      "3387    16.126607\n",
      "3388    16.237842\n",
      "3389    16.469860\n",
      "3390    16.732754\n",
      "3391    16.901885\n",
      "3392    16.947333\n",
      "3393    16.951189\n",
      "3394    17.034052\n",
      "3395    17.230539\n",
      "3396    17.466375\n",
      "3397    17.625431\n",
      "3398    17.669239\n",
      "3399    17.664863\n",
      "3400    17.724135\n",
      "3401    17.889120\n",
      "3402    18.099905\n",
      "3403    18.249293\n",
      "3404    18.292365\n",
      "3405    18.282455\n",
      "3406    18.322311\n",
      "3407    18.459482\n",
      "3408    18.647108\n",
      "3409    18.787144\n",
      "3410    18.830063\n",
      "3411    18.816791\n",
      "3412    18.840865\n",
      "3413    18.953595\n",
      "Name: predicted_mean, dtype: float64\n"
     ]
    }
   ],
   "source": [
    "\n",
    "print(fc)"
   ]
  },
  {
   "cell_type": "code",
   "execution_count": null,
   "metadata": {
    "colab": {
     "base_uri": "https://localhost:8080/"
    },
    "id": "2TuPpDS5C83x",
    "outputId": "09390002-7dba-41c0-a12c-590f9c050ecd"
   },
   "outputs": [
    {
     "data": {
      "text/plain": [
       "326.9773097548304"
      ]
     },
     "execution_count": 35,
     "metadata": {},
     "output_type": "execute_result"
    }
   ],
   "source": [
    "\n",
    "mean_squared_error(fc, test)\n"
   ]
  },
  {
   "cell_type": "code",
   "execution_count": null,
   "metadata": {
    "colab": {
     "base_uri": "https://localhost:8080/"
    },
    "id": "WY3ZHhewEuWx",
    "outputId": "9f7c29ab-3f5a-4686-8321-6ae6f242e865"
   },
   "outputs": [
    {
     "data": {
      "text/plain": [
       "11.669786351909535"
      ]
     },
     "execution_count": 39,
     "metadata": {},
     "output_type": "execute_result"
    }
   ],
   "source": [
    " mean_absolute_error(fc,test)"
   ]
  }
 ],
 "metadata": {
  "colab": {
   "provenance": []
  },
  "kernelspec": {
   "display_name": "Python 3 (ipykernel)",
   "language": "python",
   "name": "python3"
  },
  "language_info": {
   "codemirror_mode": {
    "name": "ipython",
    "version": 3
   },
   "file_extension": ".py",
   "mimetype": "text/x-python",
   "name": "python",
   "nbconvert_exporter": "python",
   "pygments_lexer": "ipython3",
   "version": "3.9.12"
  }
 },
 "nbformat": 4,
 "nbformat_minor": 1
}
