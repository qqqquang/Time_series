{
 "cells": [
  {
   "cell_type": "code",
   "execution_count": null,
   "metadata": {
    "id": "dKMHN8rU9YsP"
   },
   "outputs": [],
   "source": [
    "import numpy as np\n",
    "import pandas as pd\n",
    "import matplotlib.pyplot as plt\n",
    "\n",
    "from tensorflow.keras.models import Sequential\n",
    "from tensorflow.keras.layers import Dense, Dropout,LSTM, GRU, BatchNormalization\n",
    "from tensorflow.keras.callbacks import EarlyStopping\n",
    "from tensorflow.keras.optimizers import Adam\n",
    "from sklearn.preprocessing import MinMaxScaler\n",
    "from sklearn.model_selection import train_test_split\n",
    "from sklearn.metrics import mean_squared_error, mean_absolute_error, mean_absolute_percentage_error\n",
    "\n",
    "######################"
   ]
  },
  {
   "cell_type": "code",
   "execution_count": null,
   "metadata": {
    "id": "BcOIDevwLq5N"
   },
   "outputs": [],
   "source": [
    "contents = pd.read_csv(\"DataAirTrain.csv\")\n",
    "contents.fillna(0, inplace = True)\n",
    "########################"
   ]
  },
  {
   "cell_type": "code",
   "execution_count": null,
   "metadata": {
    "id": "UsM2wdMBUqeb"
   },
   "outputs": [],
   "source": [
    "pm10_data = contents['PM-10'].values.reshape(-1, 1) ### lệnh reshape để chuyển thành numpy, sau đó mới scale được\n",
    "scaler = MinMaxScaler(feature_range=(0, 1)) #scaler này của toàn bộ data\n",
    "scaled_pm10_data = scaler.fit_transform(pm10_data)"
   ]
  },
  {
   "cell_type": "code",
   "execution_count": null,
   "metadata": {
    "id": "SQWnqESyDNqQ"
   },
   "outputs": [],
   "source": [
    "def gen_dataset(series, n_past_steps, n_future_steps, n_features):\n",
    "  X = [] \n",
    "  Y = [] \n",
    "  for i in range(n_past_steps, series.shape[0]-n_future_steps+1):\n",
    "    X.append(series[i-n_past_steps:i, n_features-1:])\n",
    "    Y.append(series[i:i+n_future_steps, 0])\n",
    "\n",
    "  return np.array(X).reshape(-1, n_past_steps, n_features), np.array(Y).reshape(-1, n_future_steps)"
   ]
  },
  {
   "cell_type": "code",
   "execution_count": null,
   "metadata": {
    "id": "ADTGpzutBzxJ"
   },
   "outputs": [],
   "source": [
    "X, Y = gen_dataset(scaled_pm10_data, 48, 48, 1)"
   ]
  },
  {
   "cell_type": "code",
   "execution_count": null,
   "metadata": {
    "id": "WORr4jiRBzcs"
   },
   "outputs": [],
   "source": [
    "X_train, X_test, Y_train, Y_test = train_test_split(X, Y, train_size=0.8, shuffle=False)\n",
    "############################"
   ]
  },
  {
   "cell_type": "code",
   "execution_count": null,
   "metadata": {
    "colab": {
     "base_uri": "https://localhost:8080/"
    },
    "id": "nJNDz4znTfVZ",
    "outputId": "f7628ed4-0e36-438e-f808-ca4c3ae4dcbc"
   },
   "outputs": [
    {
     "data": {
      "text/plain": [
       "(2655, 48)"
      ]
     },
     "execution_count": 8,
     "metadata": {},
     "output_type": "execute_result"
    }
   ],
   "source": [
    "Y_train.shape"
   ]
  },
  {
   "cell_type": "code",
   "execution_count": null,
   "metadata": {
    "id": "AuMZbMEbCsvA"
   },
   "outputs": [],
   "source": [
    "def lstm_model(X_train, Y_train):\n",
    "  regressor = Sequential()\n",
    "  regressor.add(LSTM(units = 50, return_sequences = True, input_shape = (X_train.shape[-2], X_train.shape[-1])))\n",
    "  regressor.add(Dropout(0.2))\n",
    "  regressor.add(LSTM(units = 50, return_sequences = True))\n",
    "  regressor.add(Dropout(0.2))\n",
    "  regressor.add(LSTM(units = 50, return_sequences = True))\n",
    "  regressor.add(Dropout(0.2))\n",
    "  regressor.add(LSTM(units = 50))\n",
    "  regressor.add(Dropout(0.2))\n",
    "  regressor.add(Dense(units = Y_train.shape[-1])) \n",
    "  regressor.compile(optimizer = 'adam', loss = 'mean_squared_error')\n",
    "  regressor.summary()\n",
    "\n",
    "  return regressor\n",
    "\n",
    "\n",
    "def train_model(X_train, Y_train, n_epochs):\n",
    "  model = lstm_model(X_train, Y_train)\n",
    "  hist = model.fit(X_train,\n",
    "                 Y_train,\n",
    "                 epochs=n_epochs,\n",
    "                 batch_size=128,\n",
    "                 shuffle=True,\n",
    "                 validation_split=0.2,\n",
    "                 verbose=1)\n",
    "  \n",
    "  return model"
   ]
  },
  {
   "cell_type": "code",
   "execution_count": null,
   "metadata": {
    "id": "Fh5UEkUiCsgV"
   },
   "outputs": [],
   "source": [
    "def inverse_transform(forecasts, scaled_data, n_features, scaler):\n",
    "  inverted = []\n",
    "  for i in range(forecasts.shape[0]):\n",
    "    forecast = forecasts[i].reshape(-1, 1)\n",
    "    inv = scaler.inverse_transform(np.concatenate((forecast, scaled_data[-forecast.shape[0]:, n_features-1:]), axis =1))\n",
    "    inverted.append(inv[:, 0])\n",
    "\n",
    "  return np.array(inverted).reshape(-1, forecasts.shape[-1])\n",
    "\n",
    "\n",
    "# plot the forecasts in the context of the original dataset\n",
    "def plot_forecasts(original_data, forecasts, index, n_past_steps, n_future_steps, threshold):\n",
    "  plt.figure(figsize=(15,5))\n",
    "  plt.plot(original_data[index-n_past_steps:index+n_future_steps, 0], label='original PM-10 data')\n",
    "  if original_data.shape[-1] > 1:\n",
    "    plt.plot(original_data[index-n_past_steps:index+n_future_steps, 1], label='original PM-2-5 data')\n",
    "    plt.plot(original_data[index-n_past_steps:index+n_future_steps, 2], label='original PM-1 data')\n",
    "  plt.plot(range(n_past_steps, n_past_steps+n_future_steps+1), [original_data[index, 0]] + list(forecasts[index-n_past_steps]), label='predicted future data')\n",
    "  plt.xticks(range(0, n_past_steps+n_future_steps+1, n_future_steps), range(index-n_past_steps, index+n_future_steps+1, n_future_steps))\n",
    " \n",
    "  plt.legend()\n",
    "  plt.title('Forecasts from hour ' + str(index))\n",
    "  plt.show()"
   ]
  },
  {
   "cell_type": "code",
   "execution_count": null,
   "metadata": {
    "colab": {
     "base_uri": "https://localhost:8080/"
    },
    "id": "W_vvi4QmC-7K",
    "outputId": "21d6cd9a-2e06-41f1-fd63-ccee12b14f2a"
   },
   "outputs": [
    {
     "name": "stdout",
     "output_type": "stream",
     "text": [
      "Model: \"sequential\"\n",
      "_________________________________________________________________\n",
      " Layer (type)                Output Shape              Param #   \n",
      "=================================================================\n",
      " lstm (LSTM)                 (None, 48, 50)            10400     \n",
      "                                                                 \n",
      " dropout (Dropout)           (None, 48, 50)            0         \n",
      "                                                                 \n",
      " lstm_1 (LSTM)               (None, 48, 50)            20200     \n",
      "                                                                 \n",
      " dropout_1 (Dropout)         (None, 48, 50)            0         \n",
      "                                                                 \n",
      " lstm_2 (LSTM)               (None, 48, 50)            20200     \n",
      "                                                                 \n",
      " dropout_2 (Dropout)         (None, 48, 50)            0         \n",
      "                                                                 \n",
      " lstm_3 (LSTM)               (None, 50)                20200     \n",
      "                                                                 \n",
      " dropout_3 (Dropout)         (None, 50)                0         \n",
      "                                                                 \n",
      " dense (Dense)               (None, 48)                2448      \n",
      "                                                                 \n",
      "=================================================================\n",
      "Total params: 73,448\n",
      "Trainable params: 73,448\n",
      "Non-trainable params: 0\n",
      "_________________________________________________________________\n",
      "Epoch 1/50\n",
      "17/17 [==============================] - 17s 411ms/step - loss: 0.0096 - val_loss: 0.0045\n",
      "Epoch 2/50\n",
      "17/17 [==============================] - 4s 207ms/step - loss: 0.0044 - val_loss: 0.0034\n",
      "Epoch 3/50\n",
      "17/17 [==============================] - 4s 208ms/step - loss: 0.0037 - val_loss: 0.0034\n",
      "Epoch 4/50\n",
      "17/17 [==============================] - 5s 272ms/step - loss: 0.0035 - val_loss: 0.0034\n",
      "Epoch 5/50\n",
      "17/17 [==============================] - 4s 209ms/step - loss: 0.0034 - val_loss: 0.0033\n",
      "Epoch 6/50\n",
      "17/17 [==============================] - 4s 208ms/step - loss: 0.0033 - val_loss: 0.0034\n",
      "Epoch 7/50\n",
      "17/17 [==============================] - 5s 273ms/step - loss: 0.0032 - val_loss: 0.0035\n",
      "Epoch 8/50\n",
      "17/17 [==============================] - 4s 207ms/step - loss: 0.0032 - val_loss: 0.0035\n",
      "Epoch 9/50\n",
      "17/17 [==============================] - 4s 209ms/step - loss: 0.0031 - val_loss: 0.0033\n",
      "Epoch 10/50\n",
      "17/17 [==============================] - 4s 239ms/step - loss: 0.0031 - val_loss: 0.0034\n",
      "Epoch 11/50\n",
      "17/17 [==============================] - 4s 226ms/step - loss: 0.0030 - val_loss: 0.0034\n",
      "Epoch 12/50\n",
      "17/17 [==============================] - 3s 207ms/step - loss: 0.0030 - val_loss: 0.0035\n",
      "Epoch 13/50\n",
      "17/17 [==============================] - 4s 214ms/step - loss: 0.0030 - val_loss: 0.0034\n",
      "Epoch 14/50\n",
      "17/17 [==============================] - 5s 269ms/step - loss: 0.0030 - val_loss: 0.0033\n",
      "Epoch 15/50\n",
      "17/17 [==============================] - 4s 208ms/step - loss: 0.0030 - val_loss: 0.0034\n",
      "Epoch 16/50\n",
      "17/17 [==============================] - 4s 207ms/step - loss: 0.0029 - val_loss: 0.0034\n",
      "Epoch 17/50\n",
      "17/17 [==============================] - 4s 268ms/step - loss: 0.0029 - val_loss: 0.0034\n",
      "Epoch 18/50\n",
      "17/17 [==============================] - 3s 201ms/step - loss: 0.0029 - val_loss: 0.0034\n",
      "Epoch 19/50\n",
      "17/17 [==============================] - 3s 205ms/step - loss: 0.0029 - val_loss: 0.0034\n",
      "Epoch 20/50\n",
      "17/17 [==============================] - 4s 257ms/step - loss: 0.0029 - val_loss: 0.0034\n",
      "Epoch 21/50\n",
      "17/17 [==============================] - 4s 211ms/step - loss: 0.0028 - val_loss: 0.0034\n",
      "Epoch 22/50\n",
      "17/17 [==============================] - 4s 211ms/step - loss: 0.0028 - val_loss: 0.0034\n",
      "Epoch 23/50\n",
      "17/17 [==============================] - 4s 208ms/step - loss: 0.0028 - val_loss: 0.0034\n",
      "Epoch 24/50\n",
      "17/17 [==============================] - 5s 298ms/step - loss: 0.0028 - val_loss: 0.0035\n",
      "Epoch 25/50\n",
      "17/17 [==============================] - 3s 203ms/step - loss: 0.0028 - val_loss: 0.0035\n",
      "Epoch 26/50\n",
      "17/17 [==============================] - 4s 207ms/step - loss: 0.0028 - val_loss: 0.0035\n",
      "Epoch 27/50\n",
      "17/17 [==============================] - 5s 272ms/step - loss: 0.0028 - val_loss: 0.0034\n",
      "Epoch 28/50\n",
      "17/17 [==============================] - 3s 206ms/step - loss: 0.0027 - val_loss: 0.0035\n",
      "Epoch 29/50\n",
      "17/17 [==============================] - 3s 202ms/step - loss: 0.0028 - val_loss: 0.0034\n",
      "Epoch 30/50\n",
      "17/17 [==============================] - 5s 273ms/step - loss: 0.0027 - val_loss: 0.0035\n",
      "Epoch 31/50\n",
      "17/17 [==============================] - 4s 239ms/step - loss: 0.0027 - val_loss: 0.0034\n",
      "Epoch 32/50\n",
      "17/17 [==============================] - 4s 214ms/step - loss: 0.0027 - val_loss: 0.0034\n",
      "Epoch 33/50\n",
      "17/17 [==============================] - 4s 261ms/step - loss: 0.0027 - val_loss: 0.0036\n",
      "Epoch 34/50\n",
      "17/17 [==============================] - 4s 207ms/step - loss: 0.0027 - val_loss: 0.0034\n",
      "Epoch 35/50\n",
      "17/17 [==============================] - 3s 206ms/step - loss: 0.0027 - val_loss: 0.0034\n",
      "Epoch 36/50\n",
      "17/17 [==============================] - 4s 229ms/step - loss: 0.0027 - val_loss: 0.0034\n",
      "Epoch 37/50\n",
      "17/17 [==============================] - 4s 239ms/step - loss: 0.0027 - val_loss: 0.0035\n",
      "Epoch 38/50\n",
      "17/17 [==============================] - 4s 213ms/step - loss: 0.0027 - val_loss: 0.0035\n",
      "Epoch 39/50\n",
      "17/17 [==============================] - 3s 205ms/step - loss: 0.0027 - val_loss: 0.0035\n",
      "Epoch 40/50\n",
      "17/17 [==============================] - 4s 269ms/step - loss: 0.0027 - val_loss: 0.0035\n",
      "Epoch 41/50\n",
      "17/17 [==============================] - 4s 214ms/step - loss: 0.0026 - val_loss: 0.0035\n",
      "Epoch 42/50\n",
      "17/17 [==============================] - 4s 208ms/step - loss: 0.0026 - val_loss: 0.0037\n",
      "Epoch 43/50\n",
      "17/17 [==============================] - 5s 274ms/step - loss: 0.0026 - val_loss: 0.0035\n",
      "Epoch 44/50\n",
      "17/17 [==============================] - 4s 210ms/step - loss: 0.0026 - val_loss: 0.0035\n",
      "Epoch 45/50\n",
      "17/17 [==============================] - 3s 205ms/step - loss: 0.0026 - val_loss: 0.0034\n",
      "Epoch 46/50\n",
      "17/17 [==============================] - 4s 264ms/step - loss: 0.0026 - val_loss: 0.0034\n",
      "Epoch 47/50\n",
      "17/17 [==============================] - 4s 212ms/step - loss: 0.0026 - val_loss: 0.0035\n",
      "Epoch 48/50\n",
      "17/17 [==============================] - 3s 206ms/step - loss: 0.0026 - val_loss: 0.0035\n",
      "Epoch 49/50\n",
      "17/17 [==============================] - 4s 211ms/step - loss: 0.0026 - val_loss: 0.0036\n",
      "Epoch 50/50\n",
      "17/17 [==============================] - 4s 257ms/step - loss: 0.0026 - val_loss: 0.0035\n"
     ]
    }
   ],
   "source": [
    "model_uni = train_model(X_train, Y_train, 50)"
   ]
  },
  {
   "cell_type": "code",
   "execution_count": null,
   "metadata": {
    "colab": {
     "base_uri": "https://localhost:8080/"
    },
    "id": "AXHuETFjFD0x",
    "outputId": "158d4ccc-3c6a-4fc9-a9b4-5ba47be5da7f"
   },
   "outputs": [
    {
     "name": "stdout",
     "output_type": "stream",
     "text": [
      "104/104 [==============================] - 4s 35ms/step\n"
     ]
    }
   ],
   "source": [
    "Y_pred_uni = model_uni.predict(np.concatenate((X_train, X_test), axis=0))\n"
   ]
  },
  {
   "cell_type": "code",
   "execution_count": null,
   "metadata": {
    "colab": {
     "base_uri": "https://localhost:8080/"
    },
    "id": "CL794BqvVrLi",
    "outputId": "a5509d7d-0f03-4654-a6a3-d840903742d2"
   },
   "outputs": [
    {
     "name": "stdout",
     "output_type": "stream",
     "text": [
      "mean squared error: 0.004714705237422799\n"
     ]
    }
   ],
   "source": [
    "print('mean squared error:', mean_squared_error(np.concatenate((Y_train, Y_test), axis=0), Y_pred_uni))"
   ]
  },
  {
   "cell_type": "code",
   "execution_count": null,
   "metadata": {
    "id": "WdCK-O6xVwcV"
   },
   "outputs": [],
   "source": [
    "Y_pred_uni = inverse_transform(Y_pred_uni, scaled_pm10_data, n_features=1, scaler=scaler)\n",
    "Y_train1 = inverse_transform(Y_train, scaled_pm10_data, n_features=1, scaler=scaler) \n",
    "Y_test1 = inverse_transform(Y_test, scaled_pm10_data, n_features=1, scaler=scaler)"
   ]
  },
  {
   "cell_type": "code",
   "execution_count": null,
   "metadata": {
    "colab": {
     "base_uri": "https://localhost:8080/"
    },
    "id": "5Q0_GXQE5CY0",
    "outputId": "16bb9c67-dc90-462c-ee97-08fdc2af1129"
   },
   "outputs": [
    {
     "name": "stdout",
     "output_type": "stream",
     "text": [
      "mean squared error: 140.45615284056973\n"
     ]
    }
   ],
   "source": [
    "print('mean squared error:', mean_squared_error(np.concatenate((Y_train1, Y_test1), axis=0), Y_pred_uni))"
   ]
  },
  {
   "cell_type": "code",
   "execution_count": null,
   "metadata": {
    "colab": {
     "base_uri": "https://localhost:8080/"
    },
    "id": "NdYhnfiqPXUK",
    "outputId": "3648d92d-ec1a-4577-ae07-b37031377703"
   },
   "outputs": [
    {
     "name": "stdout",
     "output_type": "stream",
     "text": [
      "mean absolute error: 7.999337922194752\n"
     ]
    }
   ],
   "source": [
    "print('mean absolute error:', mean_absolute_error(np.concatenate((Y_train1, Y_test1), axis=0), Y_pred_uni))"
   ]
  },
  {
   "cell_type": "code",
   "execution_count": null,
   "metadata": {
    "colab": {
     "base_uri": "https://localhost:8080/",
     "height": 336
    },
    "id": "gJ75wEKBWkkf",
    "outputId": "630ae65c-e166-4fba-ff56-d346eea57987"
   },
   "outputs": [
    {
     "data": {
      "image/png": "[encoded data removed]",
      "text/plain": [
       "<Figure size 1080x360 with 1 Axes>"
      ]
     },
     "metadata": {
      "needs_background": "light"
     },
     "output_type": "display_data"
    }
   ],
   "source": [
    "plot_forecasts(pm10_data, Y_pred_uni, index=2889, n_past_steps=168, n_future_steps=48, threshold=155) # index must >= num_past_steps"
   ]
  }
 ],
 "metadata": {
  "colab": {
   "provenance": []
  },
  "kernelspec": {
   "display_name": "Python 3 (ipykernel)",
   "language": "python",
   "name": "python3"
  },
  "language_info": {
   "codemirror_mode": {
    "name": "ipython",
    "version": 3
   },
   "file_extension": ".py",
   "mimetype": "text/x-python",
   "name": "python",
   "nbconvert_exporter": "python",
   "pygments_lexer": "ipython3",
   "version": "3.9.12"
  }
 },
 "nbformat": 4,
 "nbformat_minor": 1
}
